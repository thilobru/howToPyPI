{
 "cells": [
  {
   "cell_type": "markdown",
   "metadata": {},
   "source": [
    "# Installing/Setting up conda\n",
    "\n",
    "download/install: https://docs.conda.io/projects/conda/en/latest/user-guide/install/linux.html\n",
    "\n",
    "testing if conda is available:\n",
    "```\n",
    "conda env list\n",
    "```\n",
    "Setting up new environment for the project:\n",
    "```\n",
    "conda create --name myNewPython38Project python=3.8\n",
    "conda env list\n",
    "conda activate myNewPython38Project\n",
    "```"
   ]
  },
  {
   "cell_type": "markdown",
   "metadata": {},
   "source": [
    "# Initializing cookietemple\n",
    "\n",
    "docs: https://cookietemple.readthedocs.io/en/latest/\n",
    "\n",
    "### install with: \n",
    "```console\n",
    "pip install cookietemple\n",
    "```\n",
    "\n",
    "### setting up: \n",
    "```\n",
    "cookietemple config <all/general/pat>\n",
    "``` \n",
    "choose all for full setup, pat if only adding personal acccess token\n",
    "\n",
    "### create environment: \n",
    "```\n",
    "cookietemple create\n",
    "```\n",
    "\n",
    "Choose:\n",
    "- cli \n",
    "- python \n",
    "- choose name (ExampleProject) \n",
    "- short description (example) \n",
    "- choose version (0.1.0) \n",
    "- choose license (MIT) \n",
    "- create github repo? (Yes) \n",
    "- create organization repo? (No) \n",
    "- private? (No)\n",
    "\n",
    "Now there should be a new folder created on your system and if configured correctly a github repository created"
   ]
  },
  {
   "cell_type": "code",
   "execution_count": 1,
   "metadata": {},
   "outputs": [
    {
     "name": "stdout",
     "output_type": "stream",
     "text": [
      "/bin/bash: line 1: cookietemple: command not found\n"
     ]
    }
   ],
   "source": [
    "# !pip install cookietemple\n",
    "!cookietemple create"
   ]
  },
  {
   "cell_type": "markdown",
   "metadata": {},
   "source": [
    "# Writing Code\n",
    "\n",
    "a folder named like the cookietemple project has been created to contain all written code"
   ]
  },
  {
   "cell_type": "markdown",
   "metadata": {},
   "source": [
    "# Creating Documentation\n",
    "\n",
    "The files defining the documentation are found in /docs/ and the root folder contains README.rst\n",
    "\n",
    "- index.rst: Contains an overview of the subpages and has to be edited if adding/removing pages\n",
    "\n",
    "This file will define the workflow for publishing the documentation to readthedocs: .github/workflows/publish_docs.yml\n",
    "\n",
    "- Create readthedocs account: https://readthedocs.org/accounts/signup/\n",
    "- Import project: https://readthedocs.org/dashboard/import/?"
   ]
  },
  {
   "cell_type": "markdown",
   "metadata": {},
   "source": [
    "# Uploading Library to PyPI\n",
    "\n",
    "Important Note: Libraries created with a pypi Account will be available to the public. To test you can use a test account and proceed as described below https://test.pypi.org/account/register/.\n",
    "\n",
    "This file will define the workflow for publishing a package to PyPI: .github/workflows/publish_package.yml\n",
    "In it is a reference to secrets.PYPI_TOKEN. \n",
    "\n",
    "- Create PyPI account: https://pypi.org/account/register/\n",
    "- Create new API key: https://pypi.org/manage/account/\n",
    "\n",
    "\n",
    "This will be set in https://github.com/>username</exampleproject/settings/secrets/actions/new\n",
    "\n",
    "-  As Name choose: PYPI_TOKEN\n",
    "-  As Secret: Copy and paste previously created API key \n",
    "\n",
    "This key is only visible once on the PyPI website and can never be made visible on github but is now available for github actions and can be used to access PyPI indefinitely.\n",
    "\n",
    "In the publish_package.yml is the definition for when to run the workflow on: release: types: [published]\n",
    "\n",
    "For publishing, a release has to be created at https://github.com/>username</exampleproject/releases/new\n",
    "- Click on tag: Type in desired name (v0.1.0) and click \"+Create new tag: pubished on publish\"\n",
    "- Give a Release title and Description\n",
    "- Click Publish release.\n",
    "\n",
    "Now the workflow should be starting and you will be able to install the package through pip into any python environment\n"
   ]
  }
 ],
 "metadata": {
  "kernelspec": {
   "display_name": "Python 3.8.15 ('convexgating')",
   "language": "python",
   "name": "python3"
  },
  "language_info": {
   "codemirror_mode": {
    "name": "ipython",
    "version": 3
   },
   "file_extension": ".py",
   "mimetype": "text/x-python",
   "name": "python",
   "nbconvert_exporter": "python",
   "pygments_lexer": "ipython3",
   "version": "3.8.15"
  },
  "orig_nbformat": 4,
  "vscode": {
   "interpreter": {
    "hash": "c4563856c7e00c136b2f0bc8bd3f700cb142f11a70aad1c3bfb1747bfd95dcf4"
   }
  }
 },
 "nbformat": 4,
 "nbformat_minor": 2
}
